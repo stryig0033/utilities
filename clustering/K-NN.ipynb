{
 "cells": [
  {
   "cell_type": "markdown",
   "metadata": {},
   "source": [
    "# 非階層クラスター分析 (K-NN, K-means)\n",
    "- 最初に何個のクラスターに分類したいかを決めておき、個体を分類する。\n",
    "- 個体数が多いときに適する。\n",
    "- 単位が違ったり、金額の大小が大きい場合は、データの標準化を実施。"
   ]
  },
  {
   "cell_type": "code",
   "execution_count": null,
   "metadata": {},
   "outputs": [],
   "source": []
  }
 ],
 "metadata": {
  "language_info": {
   "name": "python"
  }
 },
 "nbformat": 4,
 "nbformat_minor": 2
}
